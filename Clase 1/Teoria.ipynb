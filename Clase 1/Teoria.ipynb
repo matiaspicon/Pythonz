{
 "cells": [
  {
   "cell_type": "markdown",
   "metadata": {},
   "source": [
    "CARGA DE DATOS"
   ]
  },
  {
   "cell_type": "code",
   "execution_count": 5,
   "metadata": {},
   "outputs": [],
   "source": [
    "a = 1"
   ]
  },
  {
   "cell_type": "markdown",
   "metadata": {},
   "source": [
    "PROCESAMIENTO"
   ]
  },
  {
   "cell_type": "code",
   "execution_count": 6,
   "metadata": {},
   "outputs": [],
   "source": [
    "resultado = a + 1"
   ]
  },
  {
   "cell_type": "code",
   "execution_count": 7,
   "metadata": {},
   "outputs": [],
   "source": [
    "resultado = resultado + a"
   ]
  },
  {
   "cell_type": "markdown",
   "metadata": {},
   "source": [
    "RESULTADO"
   ]
  },
  {
   "cell_type": "code",
   "execution_count": 8,
   "metadata": {},
   "outputs": [
    {
     "name": "stdout",
     "output_type": "stream",
     "text": [
      "3\n"
     ]
    }
   ],
   "source": [
    "print(resultado)"
   ]
  },
  {
   "cell_type": "markdown",
   "metadata": {},
   "source": [
    "DECLARAR VARAIBLES"
   ]
  },
  {
   "cell_type": "code",
   "execution_count": 96,
   "metadata": {},
   "outputs": [],
   "source": [
    "b = 0\n",
    "c = \"Hola como estas?\"\n",
    "d = 1.5\n",
    "e = [1,2,3]\n",
    "e2 = [1,\"Hola\", 1.5]\n",
    "f = 'a'\n",
    "g = True\n",
    "h = False\n"
   ]
  },
  {
   "cell_type": "code",
   "execution_count": 93,
   "metadata": {},
   "outputs": [
    {
     "name": "stdout",
     "output_type": "stream",
     "text": [
      "16\n"
     ]
    }
   ],
   "source": [
    "print(len(c))"
   ]
  },
  {
   "cell_type": "code",
   "execution_count": 99,
   "metadata": {},
   "outputs": [
    {
     "data": {
      "text/plain": [
       "'Hola como estas?Hola como estas?'"
      ]
     },
     "execution_count": 99,
     "metadata": {},
     "output_type": "execute_result"
    }
   ],
   "source": [
    "(g + g) * c"
   ]
  },
  {
   "cell_type": "markdown",
   "metadata": {},
   "source": [
    "PODER DEL PRINT"
   ]
  },
  {
   "cell_type": "code",
   "execution_count": 159,
   "metadata": {},
   "outputs": [
    {
     "name": "stdout",
     "output_type": "stream",
     "text": [
      "[1, 'Hola', 1.5]\n",
      "True\n",
      "True False [1, 2, 3]\n",
      "HOLA123123\n",
      "KASKASLAS\n"
     ]
    }
   ],
   "source": [
    "print(e2)\n",
    "print(g)\n",
    "print(g, h, e)\n",
    "\n",
    "print(\"HOLA\", end=\"\") #no hace un salto de linea\n",
    "print(\"123123\")\n",
    "print(\"KASKASLAS\")"
   ]
  },
  {
   "cell_type": "markdown",
   "metadata": {},
   "source": [
    "## SLICING\n",
    "lista[start : stop : step]"
   ]
  },
  {
   "cell_type": "code",
   "execution_count": 91,
   "metadata": {},
   "outputs": [
    {
     "name": "stdout",
     "output_type": "stream",
     "text": [
      "16\n",
      "?sats\n"
     ]
    }
   ],
   "source": [
    "print(c[::-1][:5])"
   ]
  },
  {
   "cell_type": "markdown",
   "metadata": {},
   "source": [
    "IF ELSE ELIF"
   ]
  },
  {
   "cell_type": "code",
   "execution_count": 116,
   "metadata": {},
   "outputs": [
    {
     "name": "stdout",
     "output_type": "stream",
     "text": [
      "Es mayor o igual a 3\n",
      "Es mayor o igual a 3\n"
     ]
    }
   ],
   "source": [
    "num = 3\n",
    "\n",
    "#resolucion nativa\n",
    "if num <= 1:\n",
    "    print(\"Es menor o igual a 1\")\n",
    "elif num < 3:\n",
    "    print(\"Es menor a 3\")\n",
    "else:\n",
    "    print(\"Es mayor o igual a 3\")\n",
    "\n",
    "\n",
    "#resulucion forzada\n",
    "if num <= 1:\n",
    "    print(\"Es menor o igual a 1\")\n",
    "else:\n",
    "    if num < 3:\n",
    "        print(\"Es menor a 3\")\n",
    "    else:\n",
    "        print(\"Es mayor o igual a 3\")"
   ]
  },
  {
   "cell_type": "markdown",
   "metadata": {},
   "source": [
    "WHILE FOR"
   ]
  },
  {
   "cell_type": "code",
   "execution_count": 125,
   "metadata": {},
   "outputs": [
    {
     "name": "stdout",
     "output_type": "stream",
     "text": [
      "0\n",
      "1\n",
      "2\n",
      "3\n",
      "4\n"
     ]
    }
   ],
   "source": [
    "corte = 5\n",
    "i = 0\n",
    "while i < corte:\n",
    "    print(i)\n",
    "    i+=1 # a = a + 1"
   ]
  },
  {
   "cell_type": "code",
   "execution_count": 137,
   "metadata": {},
   "outputs": [
    {
     "name": "stdout",
     "output_type": "stream",
     "text": [
      "0\n",
      "-1\n",
      "-2\n",
      "-3\n",
      "-4\n"
     ]
    }
   ],
   "source": [
    "for j in range(0,-5, -1):\n",
    "    print(j)"
   ]
  },
  {
   "cell_type": "code",
   "execution_count": 139,
   "metadata": {},
   "outputs": [
    {
     "name": "stdout",
     "output_type": "stream",
     "text": [
      "?\n",
      "s\n",
      "a\n",
      "t\n",
      "s\n",
      "e\n",
      " \n",
      "o\n",
      "m\n",
      "o\n",
      "c\n",
      " \n",
      "a\n",
      "l\n",
      "o\n",
      "H\n"
     ]
    }
   ],
   "source": [
    "for caracter in c[::-1]:\n",
    "    print(caracter)"
   ]
  }
 ],
 "metadata": {
  "interpreter": {
   "hash": "8bb7d587c91f17bd2612573c37e7f7371917b3f12cb6684624fae1fa0bc42e7c"
  },
  "kernelspec": {
   "display_name": "Python 3.9.10 64-bit (windows store)",
   "language": "python",
   "name": "python3"
  },
  "language_info": {
   "codemirror_mode": {
    "name": "ipython",
    "version": 3
   },
   "file_extension": ".py",
   "mimetype": "text/x-python",
   "name": "python",
   "nbconvert_exporter": "python",
   "pygments_lexer": "ipython3",
   "version": "3.9.10"
  },
  "orig_nbformat": 4
 },
 "nbformat": 4,
 "nbformat_minor": 2
}
